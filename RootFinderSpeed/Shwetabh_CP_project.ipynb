{
 "cells": [
  {
   "cell_type": "code",
   "execution_count": null,
   "metadata": {
    "scrolled": true
   },
   "outputs": [],
   "source": [
    "#Aberth Method\n",
    "\n",
    "import numpy as np\n",
    "import time\n",
    "\n",
    "start = time.time() #time count starts\n",
    "\n",
    "f = True #conditional \n",
    "\n",
    "while(f):\n",
    "    \n",
    "    try:\n",
    "        p = np.poly1d([1, -27, 280, -1410, 3589, -4323, 1890]) #defining my polynomial\n",
    "        n = len(p)\n",
    "         \n",
    "        p_dash = np.polyder(p,1) #polynomial derivative\n",
    "        \n",
    "        z = [np.random.randint(0,10) for i in  range (0,n)] #initial guess\n",
    "\n",
    "        er_t = 0.0001 # error terms\n",
    "        ac_e = 1 \n",
    "\n",
    "        while(ac_e>er_t):\n",
    "            ac_e=0\n",
    "            for x in range(n):\n",
    "                sums = 0  # initialising sum\n",
    "                \n",
    "                for y in range(n):\n",
    "                    if(y!=x):\n",
    "                        \n",
    "                        sums = sums+(1/(z[x]-z[y])) #summation step\n",
    "                val = np.polyval(p_dash,z[x])/np.polyval(p,z[x])  \n",
    "                \n",
    "                \n",
    "                zn = z[x] - (1/(val - sums)) # iteration step\n",
    "                \n",
    "                ac_e = max(ac_e, abs(zn-z[x])) # error comparision\n",
    "                z[x] = zn # updating root values\n",
    "        f = False\n",
    "        \n",
    "    except:\n",
    "        print(\"Retrying...\") #incase a division by zero error would interrupt the process\n",
    "        \n",
    "end = time.time() #timer ends\n",
    "\n",
    "print(\"Roots : \", z)\n",
    "print(\"Running Time : \",end-start)"
   ]
  },
  {
   "cell_type": "code",
   "execution_count": 22,
   "metadata": {},
   "outputs": [
    {
     "name": "stdout",
     "output_type": "stream",
     "text": [
      "Roots :  [1.0, 5.0, 2.0, 2.9999999999999956, 7.0, 9.0]\n",
      "Running Time :  0.008011341094970703\n"
     ]
    },
    {
     "name": "stderr",
     "output_type": "stream",
     "text": [
      "C:\\Users\\Shwetabh\\Anaconda3\\lib\\site-packages\\ipykernel_launcher.py:23: RuntimeWarning: invalid value encountered in long_scalars\n",
      "C:\\Users\\Shwetabh\\Anaconda3\\lib\\site-packages\\ipykernel_launcher.py:23: RuntimeWarning: divide by zero encountered in long_scalars\n",
      "C:\\Users\\Shwetabh\\Anaconda3\\lib\\site-packages\\ipykernel_launcher.py:22: RuntimeWarning: invalid value encountered in double_scalars\n",
      "C:\\Users\\Shwetabh\\Anaconda3\\lib\\site-packages\\numpy\\lib\\polynomial.py:680: RuntimeWarning: invalid value encountered in multiply\n",
      "  y = y * x + p[i]\n"
     ]
    }
   ],
   "source": [
    "#DK Method\n",
    "\n",
    "import numpy as np\n",
    "import time\n",
    "\n",
    "start = time.time() #time count starts\n",
    "\n",
    "p = np.poly1d([1, -27, 280, -1410, 3589, -4323, 1890])\n",
    "n = len(p)\n",
    "\n",
    "f = True #conditional \n",
    "\n",
    "while(f):\n",
    "    try:\n",
    "        z = [np.random.randint(0,10) for i in  range (0,n)] #initial guess\n",
    "        \n",
    "        er_t = 0.0001 #error terms\n",
    "        ac_e = 1\n",
    "        \n",
    "        while(ac_e>er_t):\n",
    "            zc = z.copy() #a seperate array with values same as values of z is created, as multiplication \n",
    "                          # term requires older values as well\n",
    "            ac_e=0\n",
    "            for x in range(n):\n",
    "                mult = 1 # intialising multiplication term\n",
    "                for y in range(n):\n",
    "                    \n",
    "                    if(x!=y):\n",
    "                        mult = mult * (z[x]-z[y]) #multiplicaion step\n",
    "                        \n",
    "                delta = np.polyval(p, z[x])/mult # offset term\n",
    "                \n",
    "                ac_e = max(ac_e, abs(delta))    \n",
    "                \n",
    "                zc[x] = z[x] - delta # iteration step\n",
    "                \n",
    "            z = zc.copy() #updating copied array to store current values and will\n",
    "        f = False\n",
    "        \n",
    "        for x in z:\n",
    "            if(str(x)==\"nan\"): # if the roots converge to NaN, the loop restarts\n",
    "                f = True\n",
    "                \n",
    "    except:\n",
    "        print(\"Retry\")  #retry in case the error occurs .\n",
    "        \n",
    "end = time.time() # timer ends\n",
    "\n",
    "print(\"Roots : \", z)\n",
    "print(\"Running Time : \",end-start)"
   ]
  }
 ],
 "metadata": {
  "kernelspec": {
   "display_name": "Python 3",
   "language": "python",
   "name": "python3"
  },
  "language_info": {
   "codemirror_mode": {
    "name": "ipython",
    "version": 3
   },
   "file_extension": ".py",
   "mimetype": "text/x-python",
   "name": "python",
   "nbconvert_exporter": "python",
   "pygments_lexer": "ipython3",
   "version": "3.6.3"
  }
 },
 "nbformat": 4,
 "nbformat_minor": 2
}
